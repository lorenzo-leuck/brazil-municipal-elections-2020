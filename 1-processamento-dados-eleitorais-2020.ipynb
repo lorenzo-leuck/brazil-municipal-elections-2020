{
 "cells": [
  {
   "cell_type": "code",
   "execution_count": null,
   "metadata": {},
   "outputs": [],
   "source": [
    "# Processamento de dados eleitorais 2020"
   ]
  },
  {
   "cell_type": "code",
   "execution_count": 1,
   "metadata": {},
   "outputs": [],
   "source": [
    "import pandas as pd\n",
    "import regex"
   ]
  },
  {
   "cell_type": "code",
   "execution_count": null,
   "metadata": {},
   "outputs": [],
   "source": [
    "#Informações gerais sobre as bases de dados"
   ]
  },
  {
   "cell_type": "code",
   "execution_count": 9,
   "metadata": {
    "tags": []
   },
   "outputs": [],
   "source": [
    "# candidatos = pd.read_csv(\"dados/consulta_cand_2020_BRASIL.csv\", sep=\";\", encoding=\"iso-8859-1\")\n",
    "votacao = pd.read_csv(\"dados/votacao_candidato_munzona_2020_BRASIL-2.csv\", sep=\";\", encoding=\"iso-8859-1\")\n",
    "votacao[\"MUNICIPIO_ESTADO\"] = votacao[\"NM_UE\"].str.cat(votacao[\"SG_UF\"], sep=\"-\") \n",
    "instrucao = pd.DataFrame(votacao[\"MUNICIPIO_ESTADO\"].unique())\n",
    "instrucao.to_clipboard(sep='\\t')\n",
    "# print(votacao['DS_DETALHE_SITUACAO_CAND'].unique())\n",
    "# eleitorado = pd.read_csv(\"dados/eleitorado_municipio_2020.csv\", sep=\";\", encoding=\"iso-8859-1\")\n",
    "# idhm = pd.read_csv(\"dados/idhm-2010.csv\", sep=\",\"S, encoding=\"utf-8\")\n",
    "\n",
    "\n",
    "# list(eleitorado.columns)\n",
    "\n",
    "\n",
    "# print(candidatos.shape[1])\n",
    "# print(votacao.shape[1])\n",
    "# print(eleitorado.shape[1])\n",
    "# print(idhm.shape[1])"
   ]
  },
  {
   "cell_type": "code",
   "execution_count": null,
   "metadata": {},
   "outputs": [],
   "source": [
    "# Filtro candidatos"
   ]
  },
  {
   "cell_type": "code",
   "execution_count": 16,
   "metadata": {},
   "outputs": [],
   "source": [
    "candidatos = pd.read_csv(\"dados/consulta_cand_2020_BRASIL.csv\", sep=\";\", encoding=\"iso-8859-1\")\n",
    "\n",
    "filtroCandidatos = candidatos[(candidatos.SG_UF.isin([\"MT\", \"GO\", \"RN\", \"TO\", \"MG\", \"SE\", \"AM\", \"PR\", \"SP\", \"PB\", \"RR\", \"RO\", \"MA\", \"BA\", \"CE\", \"ES\", \"PE\", \"AL\", \"AP\", \"PA\", \"RJ\", \"MS\", \"AC\", \"SC\", \"PI\"]))&(candidatos.DS_CARGO=='PREFEITO')&(candidatos.NM_UE.isin([\"ARACAJU\" , \"BELÉM\" , \"BELO HORIZONTE\" , \"BOA VISTA\" , \"CAMPO GRANDE\" , \"CUIABÁ\" , \"CURITIBA\" , \"FLORIANÓPOLIS\" , \"FORTALEZA\" , \"GOIÂNIA\" , \"JOÃO PESSOA\" , \"MACAPÁ\" , \"MACEIÓ\" , \"MANAUS\" , \"NATAL\" , \"PALMAS\" , \"PORTO ALEGRE\" , \"PORTO VELHO\" , \"RECIFE\" , \"RIO BRANCO\" , \"RIO DE JANEIRO\" , \"SALVADOR\" , \"SÃO LUÍS\" , \"SÃO PAULO\" , \"TERESINA\" , \"VITÓRIA\"]))&(candidatos.NR_TURNO==1)&(candidatos.DS_SITUACAO_CANDIDATO_URNA.isin([\"DEFERIDO\",\"DEFERIDO COM RECURSO\"]))]\n",
    "\n",
    "filtroCandidatos.to_csv(\"dados/candidatos-prefeitos-capitais.csv\", encoding='utf-8')\n",
    "\n"
   ]
  },
  {
   "cell_type": "code",
   "execution_count": null,
   "metadata": {},
   "outputs": [],
   "source": [
    "# Filtro votacao"
   ]
  },
  {
   "cell_type": "code",
   "execution_count": 4,
   "metadata": {},
   "outputs": [],
   "source": [
    "filtroVotacao = votacao[(votacao.MUNICIPIO_ESTADO.isin([\"CUIABÁ-MT\", \"GOIÂNIA-GO\", \"NATAL-RN\", \"PALMAS-TO\", \"BELO HORIZONTE-MG\", \"ARACAJU-SE\", \"MANAUS-AM\", \"CURITIBA-PR\", \"SÃO PAULO-SP\", \"JOÃO PESSOA-PB\", \"BOA VISTA-RR\", \"PORTO VELHO-RO\", \"SÃO LUÍS-MA\", \"SALVADOR-BA\", \"FORTALEZA-CE\", \"VITÓRIA-ES\", \"RECIFE-PE\", \"MACEIÓ-AL\", \"MACAPÁ-AP\", \"BELÉM-PA\", \"RIO DE JANEIRO-RJ\", \"CAMPO GRANDE-MS\", \"RIO BRANCO-AC\", \"FLORIANÓPOLIS-SC\", \"TERESINA-PI\", \"PORTO ALEGRE-RS\"]))&(votacao.DS_CARGO=='Prefeito')&(votacao.NR_TURNO==1)&(votacao.DS_DETALHE_SITUACAO_CAND.isin([\"DEFERIDO\",\"DEFERIDO COM RECURSO\"]))]\n",
    "\n",
    "filtroVotacao2 = filtroVotacao.groupby(['NM_URNA_CANDIDATO']).agg({'MUNICIPIO_ESTADO': 'first','QT_VOTOS_NOMINAIS':'sum'})\n",
    "filtroVotacao2.to_csv(\"dados/votacao-prefeitos-capitais-4.csv\", sep=\";\", encoding=\"iso-8859-1\")"
   ]
  },
  {
   "cell_type": "code",
   "execution_count": null,
   "metadata": {},
   "outputs": [],
   "source": [
    "# Filtro eleitorado"
   ]
  },
  {
   "cell_type": "code",
   "execution_count": 19,
   "metadata": {},
   "outputs": [],
   "source": [
    "eleitorado = pd.read_csv(\"dados/eleitorado_municipio_2020.csv\", sep=\";\", encoding=\"iso-8859-1\")\n",
    "\n",
    "filtroEleitorado = eleitorado[(eleitorado.SG_UF.isin([\"MT\", \"GO\", \"RN\", \"TO\", \"MG\", \"SE\", \"AM\", \"PR\", \"SP\", \"PB\", \"RR\", \"RO\", \"MA\", \"BA\", \"CE\", \"ES\", \"PE\", \"AL\", \"AP\", \"PA\", \"RJ\", \"MS\", \"AC\", \"SC\", \"PI\"]))&(eleitorado.NM_MUNICIPIO.isin([\"CUIABÁ\", \"GOIÂNIA\", \"NATAL\", \"PALMAS\", \"BELO HORIZONTE\", \"ARACAJU\", \"MANAUS\", \"CURITIBA\", \"SÃO PAULO\", \"JOÃO PESSOA\", \"BOA VISTA\", \"PORTO VELHO\", \"SÃO LUÍS\", \"SALVADOR\", \"FORTALEZA\", \"VITÓRIA\", \"RECIFE\", \"MACEIÓ\", \"MACAPÁ\", \"BELÉM\", \"RIO DE JANEIRO\", \"CAMPO GRANDE\", \"RIO BRANCO\", \"FLORIANÓPOLIS\", \"TERESINA\"]))]\n",
    "\n",
    "filtroEleitorado.to_csv(\"dados/eleitorado_capitais_2020.csv\", sep=\";\", encoding=\"iso-8859-1\")"
   ]
  },
  {
   "cell_type": "code",
   "execution_count": null,
   "metadata": {},
   "outputs": [],
   "source": [
    "# Filtro idhm"
   ]
  },
  {
   "cell_type": "code",
   "execution_count": 20,
   "metadata": {},
   "outputs": [],
   "source": [
    "idhm = pd.read_csv(\"dados/idhm-2010.csv\", sep=\",\", encoding=\"utf-8\")\n",
    "\n",
    "\n",
    "filtroIDHM = idhm[(idhm.MUNICIPIO_ESTADO.isin([\"CUIABÁ-MT\", \"GOIÂNIA-GO\", \"NATAL-RN\", \"PALMAS-TO\", \"BELO HORIZONTE-MG\", \"ARACAJU-SE\", \"MANAUS-AM\", \"CURITIBA-PR\", \"SÃO PAULO-SP\", \"JOÃO PESSOA-PB\", \"BOA VISTA-RR\", \"PORTO VELHO-RO\", \"SÃO LUÍS-MA\", \"SALVADOR-BA\", \"FORTALEZA-CE\", \"VITÓRIA-ES\", \"RECIFE-PE\", \"MACEIÓ-AL\", \"MACAPÁ-AP\", \"BELÉM-PA\", \"RIO DE JANEIRO-RJ\", \"CAMPO GRANDE-MS\", \"RIO BRANCO-AC\", \"FLORIANÓPOLIS-SC\", \"TERESINA-PI\", \"PORTO ALEGRE-RS\"]))]\n",
    "\n",
    "filtroIDHM.to_csv(\"dados/idhm-capitais.csv\", sep=\";\", encoding=\"iso-8859-1\")"
   ]
  },
  {
   "cell_type": "code",
   "execution_count": null,
   "metadata": {},
   "outputs": [],
   "source": [
    "# Cruzamento de dados"
   ]
  },
  {
   "cell_type": "code",
   "execution_count": 23,
   "metadata": {},
   "outputs": [],
   "source": [
    "base = pd.read_csv(\"dados/eleicoes-2020-twitter.csv\", sep=\",\", encoding=\"utf-8\")\n",
    "eleitorado = pd.read_csv(\"dados/eleitorado_capitais_2020.csv\", sep=\";\", encoding=\"iso-8859-1\")\n",
    "idhm = pd.read_csv(\"dados/idhm-capitais.csv\", sep=\";\", encoding=\"iso-8859-1\")\n",
    "\n",
    "\n",
    "tabela1 = pd.merge(base, eleitorado, how='left', left_on=['Capital'], right_on=['NM_MUNICIPIO'])\n",
    "tabela2 = pd.merge(tabela1, idhm, how='left', left_on=['NM_MUNICIPIO'], right_on=['Município'])\n",
    "\n",
    "combo = tabela1.to_csv(\"dados/eleicoes-m-2020-twitter - tabela-completa.csv\")"
   ]
  },
  {
   "cell_type": "code",
   "execution_count": null,
   "metadata": {},
   "outputs": [],
   "source": []
  }
 ],
 "metadata": {
  "kernelspec": {
   "display_name": "Python 3",
   "language": "python",
   "name": "python3"
  },
  "language_info": {
   "codemirror_mode": {
    "name": "ipython",
    "version": 3
   },
   "file_extension": ".py",
   "mimetype": "text/x-python",
   "name": "python",
   "nbconvert_exporter": "python",
   "pygments_lexer": "ipython3",
   "version": "3.8.8"
  }
 },
 "nbformat": 4,
 "nbformat_minor": 4
}
